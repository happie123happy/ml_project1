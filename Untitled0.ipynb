{
  "nbformat": 4,
  "nbformat_minor": 0,
  "metadata": {
    "colab": {
      "name": "Untitled0.ipynb",
      "provenance": [],
      "collapsed_sections": [],
      "authorship_tag": "ABX9TyOXGMn6C+aT3LPSYXEyOLgY",
      "include_colab_link": true
    },
    "kernelspec": {
      "name": "python3",
      "display_name": "Python 3"
    },
    "language_info": {
      "name": "python"
    }
  },
  "cells": [
    {
      "cell_type": "markdown",
      "metadata": {
        "id": "view-in-github",
        "colab_type": "text"
      },
      "source": [
        "<a href=\"https://colab.research.google.com/github/happie123happy/ml_project1/blob/main/Untitled0.ipynb\" target=\"_parent\"><img src=\"https://colab.research.google.com/assets/colab-badge.svg\" alt=\"Open In Colab\"/></a>"
      ]
    },
    {
      "cell_type": "code",
      "metadata": {
        "id": "I2Timzrgabf1"
      },
      "source": [
        "from sklearn.linear_model import LinearRegression\n",
        "import random"
      ],
      "execution_count": null,
      "outputs": []
    },
    {
      "cell_type": "code",
      "metadata": {
        "id": "eByzQoTQbMRd"
      },
      "source": [
        "feature_set=[]\n",
        "target_set=[]"
      ],
      "execution_count": null,
      "outputs": []
    },
    {
      "cell_type": "code",
      "metadata": {
        "id": "GjhG_m7gblTA"
      },
      "source": [
        "no_of_rows=200\n",
        "no_of_num=2000"
      ],
      "execution_count": null,
      "outputs": []
    },
    {
      "cell_type": "code",
      "metadata": {
        "id": "SRC_A2TwcJL6"
      },
      "source": [
        "for i in range(no_of_rows):\n",
        "  x=random.randint(1,no_of_num)\n",
        "  y=random.randint(1,no_of_num)\n",
        "  z=random.randint(1,no_of_num)\n",
        "\n",
        "  function=(4*x)+(3*y)+(2*z)\n",
        "\n",
        "  feature_set.append([x,y,z])\n",
        "  target_set.append(function)"
      ],
      "execution_count": null,
      "outputs": []
    },
    {
      "cell_type": "code",
      "metadata": {
        "colab": {
          "base_uri": "https://localhost:8080/"
        },
        "id": "FRpnqz-Odm6x",
        "outputId": "112dea2e-9043-4681-a1c7-90fb3add29b2"
      },
      "source": [
        "model=LinearRegression()\n",
        "model.fit(feature_set,target_set)\n"
      ],
      "execution_count": null,
      "outputs": [
        {
          "output_type": "execute_result",
          "data": {
            "text/plain": [
              "LinearRegression(copy_X=True, fit_intercept=True, n_jobs=None, normalize=False)"
            ]
          },
          "metadata": {},
          "execution_count": 10
        }
      ]
    },
    {
      "cell_type": "code",
      "metadata": {
        "id": "qjcYz_9teENH"
      },
      "source": [
        "test=[[0,3,455]] #(4*0)+(3*3)+(2*45)=99\n",
        "prediction=model.predict(test)"
      ],
      "execution_count": null,
      "outputs": []
    },
    {
      "cell_type": "code",
      "metadata": {
        "colab": {
          "base_uri": "https://localhost:8080/"
        },
        "id": "1LdpCfnfayOV",
        "outputId": "dd6cf2a9-4973-42e0-c542-91a6ed757ae9"
      },
      "source": [
        "print(\"prediction :\"+str(prediction) + \"coefficients :\"+str(model.coef_))"
      ],
      "execution_count": null,
      "outputs": [
        {
          "output_type": "stream",
          "name": "stdout",
          "text": [
            "prediction :[919.]coefficients :[4. 3. 2.]\n"
          ]
        }
      ]
    }
  ]
}